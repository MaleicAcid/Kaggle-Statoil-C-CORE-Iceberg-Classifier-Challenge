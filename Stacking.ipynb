{
 "cells": [
  {
   "cell_type": "code",
   "execution_count": 22,
   "metadata": {
    "collapsed": false
   },
   "outputs": [
    {
     "data": {
      "text/html": [
       "<div>\n",
       "<table border=\"1\" class=\"dataframe\">\n",
       "  <thead>\n",
       "    <tr style=\"text-align: right;\">\n",
       "      <th></th>\n",
       "      <th>id</th>\n",
       "      <th>21stack_mean</th>\n",
       "      <th>22stack_mean</th>\n",
       "      <th>22stack_mean_pro17</th>\n",
       "      <th>22stack_median</th>\n",
       "      <th>23stack_mean</th>\n",
       "    </tr>\n",
       "  </thead>\n",
       "  <tbody>\n",
       "    <tr>\n",
       "      <th>0</th>\n",
       "      <td>5941774d</td>\n",
       "      <td>0.002070</td>\n",
       "      <td>0.001357</td>\n",
       "      <td>0.001357</td>\n",
       "      <td>0.001000</td>\n",
       "      <td>0.001312</td>\n",
       "    </tr>\n",
       "    <tr>\n",
       "      <th>1</th>\n",
       "      <td>4023181e</td>\n",
       "      <td>0.209825</td>\n",
       "      <td>0.150446</td>\n",
       "      <td>0.150446</td>\n",
       "      <td>0.209825</td>\n",
       "      <td>0.157868</td>\n",
       "    </tr>\n",
       "    <tr>\n",
       "      <th>2</th>\n",
       "      <td>b20200e4</td>\n",
       "      <td>0.000923</td>\n",
       "      <td>0.000308</td>\n",
       "      <td>0.000000</td>\n",
       "      <td>0.000000</td>\n",
       "      <td>0.000269</td>\n",
       "    </tr>\n",
       "    <tr>\n",
       "      <th>3</th>\n",
       "      <td>e7f018bb</td>\n",
       "      <td>0.999560</td>\n",
       "      <td>0.999796</td>\n",
       "      <td>1.000000</td>\n",
       "      <td>0.999914</td>\n",
       "      <td>0.999811</td>\n",
       "    </tr>\n",
       "    <tr>\n",
       "      <th>4</th>\n",
       "      <td>4371c8c3</td>\n",
       "      <td>0.100764</td>\n",
       "      <td>0.064310</td>\n",
       "      <td>0.064310</td>\n",
       "      <td>0.064310</td>\n",
       "      <td>0.064310</td>\n",
       "    </tr>\n",
       "  </tbody>\n",
       "</table>\n",
       "</div>"
      ],
      "text/plain": [
       "         id  21stack_mean  22stack_mean  22stack_mean_pro17  22stack_median  \\\n",
       "0  5941774d      0.002070      0.001357            0.001357        0.001000   \n",
       "1  4023181e      0.209825      0.150446            0.150446        0.209825   \n",
       "2  b20200e4      0.000923      0.000308            0.000000        0.000000   \n",
       "3  e7f018bb      0.999560      0.999796            1.000000        0.999914   \n",
       "4  4371c8c3      0.100764      0.064310            0.064310        0.064310   \n",
       "\n",
       "   23stack_mean  \n",
       "0      0.001312  \n",
       "1      0.157868  \n",
       "2      0.000269  \n",
       "3      0.999811  \n",
       "4      0.064310  "
      ]
     },
     "execution_count": 22,
     "metadata": {},
     "output_type": "execute_result"
    }
   ],
   "source": [
    "import os \n",
    "import numpy as np\n",
    "import pandas as pd\n",
    "\n",
    "##Load Data\n",
    "sub_path=\"sub31\"\n",
    "all_files=os.listdir(sub_path)\n",
    "outs = [pd.read_csv(os.path.join(sub_path, f), index_col=0) for f in all_files]\n",
    "concat_sub = pd.concat(outs, axis=1)\n",
    "cols = list(map(lambda x: \"\" + str(x)[:-4], all_files))\n",
    "concat_sub.columns = cols\n",
    "concat_sub.reset_index(inplace=True)\n",
    "concat_sub.head()"
   ]
  },
  {
   "cell_type": "code",
   "execution_count": 23,
   "metadata": {
    "collapsed": false
   },
   "outputs": [
    {
     "data": {
      "text/html": [
       "<div>\n",
       "<table border=\"1\" class=\"dataframe\">\n",
       "  <thead>\n",
       "    <tr style=\"text-align: right;\">\n",
       "      <th></th>\n",
       "      <th>21stack_mean</th>\n",
       "      <th>22stack_mean</th>\n",
       "      <th>22stack_mean_pro17</th>\n",
       "      <th>22stack_median</th>\n",
       "      <th>23stack_mean</th>\n",
       "    </tr>\n",
       "  </thead>\n",
       "  <tbody>\n",
       "    <tr>\n",
       "      <th>21stack_mean</th>\n",
       "      <td>1.000000</td>\n",
       "      <td>0.998399</td>\n",
       "      <td>0.998164</td>\n",
       "      <td>0.997546</td>\n",
       "      <td>0.998385</td>\n",
       "    </tr>\n",
       "    <tr>\n",
       "      <th>22stack_mean</th>\n",
       "      <td>0.998399</td>\n",
       "      <td>1.000000</td>\n",
       "      <td>0.999887</td>\n",
       "      <td>0.999150</td>\n",
       "      <td>0.999987</td>\n",
       "    </tr>\n",
       "    <tr>\n",
       "      <th>22stack_mean_pro17</th>\n",
       "      <td>0.998164</td>\n",
       "      <td>0.999887</td>\n",
       "      <td>1.000000</td>\n",
       "      <td>0.999113</td>\n",
       "      <td>0.999883</td>\n",
       "    </tr>\n",
       "    <tr>\n",
       "      <th>22stack_median</th>\n",
       "      <td>0.997546</td>\n",
       "      <td>0.999150</td>\n",
       "      <td>0.999113</td>\n",
       "      <td>1.000000</td>\n",
       "      <td>0.999350</td>\n",
       "    </tr>\n",
       "    <tr>\n",
       "      <th>23stack_mean</th>\n",
       "      <td>0.998385</td>\n",
       "      <td>0.999987</td>\n",
       "      <td>0.999883</td>\n",
       "      <td>0.999350</td>\n",
       "      <td>1.000000</td>\n",
       "    </tr>\n",
       "  </tbody>\n",
       "</table>\n",
       "</div>"
      ],
      "text/plain": [
       "                    21stack_mean  22stack_mean  22stack_mean_pro17  \\\n",
       "21stack_mean            1.000000      0.998399            0.998164   \n",
       "22stack_mean            0.998399      1.000000            0.999887   \n",
       "22stack_mean_pro17      0.998164      0.999887            1.000000   \n",
       "22stack_median          0.997546      0.999150            0.999113   \n",
       "23stack_mean            0.998385      0.999987            0.999883   \n",
       "\n",
       "                    22stack_median  23stack_mean  \n",
       "21stack_mean              0.997546      0.998385  \n",
       "22stack_mean              0.999150      0.999987  \n",
       "22stack_mean_pro17        0.999113      0.999883  \n",
       "22stack_median            1.000000      0.999350  \n",
       "23stack_mean              0.999350      1.000000  "
      ]
     },
     "execution_count": 23,
     "metadata": {},
     "output_type": "execute_result"
    }
   ],
   "source": [
    "concat_sub.corr()\n"
   ]
  },
  {
   "cell_type": "code",
   "execution_count": 24,
   "metadata": {
    "collapsed": true
   },
   "outputs": [],
   "source": [
    "# get the data fields ready for stacking\n",
    "concat_sub['is_iceberg_max'] = concat_sub.iloc[:, 1:].max(axis=1)\n",
    "concat_sub['is_iceberg_min'] = concat_sub.iloc[:, 1:].min(axis=1)\n",
    "concat_sub['is_iceberg_mean'] = concat_sub.iloc[:, 1:].mean(axis=1)\n",
    "concat_sub['is_iceberg_median'] = concat_sub.iloc[:, 1:].median(axis=1)"
   ]
  },
  {
   "cell_type": "code",
   "execution_count": 25,
   "metadata": {
    "collapsed": true
   },
   "outputs": [],
   "source": [
    "# set up cutoff threshold for lower and upper bounds, easy to twist \n",
    "cutoff_lo = 0.95\n",
    "cutoff_hi = 0.05"
   ]
  },
  {
   "cell_type": "code",
   "execution_count": 26,
   "metadata": {
    "collapsed": true
   },
   "outputs": [],
   "source": [
    "concat_sub['is_iceberg'] = concat_sub['is_iceberg_mean']\n",
    "concat_sub[['id', 'is_iceberg']].to_csv(sub_path[-2:]+'stack_mean.csv', \n",
    "                                        index=False, float_format='%.6f')"
   ]
  },
  {
   "cell_type": "code",
   "execution_count": 27,
   "metadata": {
    "collapsed": true
   },
   "outputs": [],
   "source": [
    "concat_sub['is_iceberg'] = concat_sub['is_iceberg_median']\n",
    "concat_sub[['id', 'is_iceberg']].to_csv(sub_path[-2:]+'stack_median.csv', \n",
    "                                        index=False, float_format='%.6f')"
   ]
  },
  {
   "cell_type": "code",
   "execution_count": 28,
   "metadata": {
    "collapsed": true
   },
   "outputs": [],
   "source": [
    "concat_sub['is_iceberg'] = np.where(np.all(concat_sub.iloc[:,1:] > cutoff_lo, axis=1), 1, \n",
    "                                    np.where(np.all(concat_sub.iloc[:,1:] < cutoff_hi, axis=1),\n",
    "                                             0, concat_sub['is_iceberg_median']))\n",
    "concat_sub[['id', 'is_iceberg']].to_csv(sub_path[-2:]+'stack_pushout_median.csv', \n",
    "                                        index=False, float_format='%.6f')"
   ]
  },
  {
   "cell_type": "code",
   "execution_count": 29,
   "metadata": {
    "collapsed": true
   },
   "outputs": [],
   "source": [
    "concat_sub['is_iceberg'] = np.where(np.all(concat_sub.iloc[:,1:] > cutoff_lo, axis=1), \n",
    "                                    concat_sub['is_iceberg_max'], \n",
    "                                    np.where(np.all(concat_sub.iloc[:,1:] < cutoff_hi, axis=1),\n",
    "                                             concat_sub['is_iceberg_min'], \n",
    "                                             concat_sub['is_iceberg_mean']))\n",
    "concat_sub[['id', 'is_iceberg']].to_csv(sub_path[-2:]+'stack_minmax_mean.csv', \n",
    "                                        index=False, float_format='%.6f')"
   ]
  },
  {
   "cell_type": "code",
   "execution_count": 30,
   "metadata": {
    "collapsed": true
   },
   "outputs": [],
   "source": [
    "concat_sub['is_iceberg'] = np.where(np.all(concat_sub.iloc[:,1:] > cutoff_lo, axis=1), \n",
    "                                    concat_sub['is_iceberg_max'], \n",
    "                                    np.where(np.all(concat_sub.iloc[:,1:] < cutoff_hi, axis=1),\n",
    "                                             concat_sub['is_iceberg_min'], \n",
    "                                             concat_sub['is_iceberg_median']))\n",
    "#concat_sub['is_iceberg'] = np.clip(concat_sub['is_iceberg'].values, 0.001, 0.999)\n",
    "concat_sub[['id', 'is_iceberg']].to_csv(sub_path[-2:]+'stack_minmax_median.csv', \n",
    "                                        index=False, float_format='%.6f')"
   ]
  },
  {
   "cell_type": "code",
   "execution_count": 31,
   "metadata": {
    "collapsed": true
   },
   "outputs": [],
   "source": [
    "sub_base = pd.read_csv('22stack_mean_pro17.csv')\n",
    "concat_sub['is_iceberg_base'] = sub_base['is_iceberg']\n",
    "concat_sub['is_iceberg'] = np.where(np.all(concat_sub.iloc[:,1:] > cutoff_lo, axis=1), \n",
    "                                    concat_sub['is_iceberg_max'], \n",
    "                                    np.where(np.all(concat_sub.iloc[:,1:] < cutoff_hi, axis=1),\n",
    "                                             concat_sub['is_iceberg_min'], \n",
    "                                             concat_sub['is_iceberg_base']))\n",
    "#concat_sub['is_iceberg'] = np.clip(concat_sub['is_iceberg'].values, 0.001, 0.999)\n",
    "concat_sub[['id', 'is_iceberg']].to_csv(sub_path[-2:]+'stack_minmax_bestbase.csv', \n",
    "                                        index=False, float_format='%.6f')"
   ]
  },
  {
   "cell_type": "code",
   "execution_count": null,
   "metadata": {
    "collapsed": true
   },
   "outputs": [],
   "source": []
  }
 ],
 "metadata": {
  "anaconda-cloud": {},
  "kernelspec": {
   "display_name": "Python [conda root]",
   "language": "python",
   "name": "conda-root-py"
  },
  "language_info": {
   "codemirror_mode": {
    "name": "ipython",
    "version": 3
   },
   "file_extension": ".py",
   "mimetype": "text/x-python",
   "name": "python",
   "nbconvert_exporter": "python",
   "pygments_lexer": "ipython3",
   "version": "3.5.2"
  }
 },
 "nbformat": 4,
 "nbformat_minor": 1
}
